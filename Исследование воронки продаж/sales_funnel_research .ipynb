{
 "cells": [
  {
   "cell_type": "code",
   "execution_count": 1,
   "metadata": {},
   "outputs": [],
   "source": [
    "import math as mth\n",
    "import matplotlib.pyplot as plt\n",
    "import pandas as pd\n",
    "import seaborn as sns\n",
    "import numpy as np\n",
    "\n",
    "from plotly import graph_objects as go\n",
    "from scipy import stats as st\n",
    "from statsmodels.stats.multitest import multipletests"
   ]
  },
  {
   "cell_type": "markdown",
   "metadata": {},
   "source": [
    "# Исследование воронки продаж"
   ]
  },
  {
   "cell_type": "markdown",
   "metadata": {},
   "source": [
    "## Содержание: <a name='mark_'></a> \n",
    "\n",
    "### [Описание проекта](#mark0)  \n",
    "### [Загрузка данных](#mark1)\n",
    "### [Предобработка данных](#mark2)\n",
    "### [Анализ данных](#mark3)\n",
    "### [Изучение воронки событий](#mark4) \n",
    "### [Изучение результатов эксперимента](#mark5)\n"
   ]
  },
  {
   "cell_type": "markdown",
   "metadata": {},
   "source": [
    "# Описание проекта <a name='mark0'></a>  \n",
    "Небходимо проанализирововать поведение пользователей мобильного приложения интернет-магазина.  \n",
    "Изучим воронку продаж и узнаем, как пользователи доходят до покупки. Сколько пользователей доходит до покупки, а сколько — «застревает» на предыдущих шагах? На каких именно?  \n",
    "\n",
    "Дизайнеры захотели поменять шрифты приложения, а менеджеры предупредили, что пользователям может быть непривычно. Перед внедрение новых шрифтов необходимо провести A/A/B-тест. Пользователей разбили на 3 группы: 2 контрольные со старыми шрифтами и одну экспериментальную — с новыми. Выясним, какой шрифт лучше."
   ]
  },
  {
   "cell_type": "markdown",
   "metadata": {},
   "source": [
    "# Загрузка данных<a name='mark1'></a>"
   ]
  },
  {
   "cell_type": "code",
   "execution_count": 2,
   "metadata": {},
   "outputs": [],
   "source": [
    "# путь к документу\n",
    "path = 'E:\\\\Python\\\\datasets\\\\'"
   ]
  },
  {
   "cell_type": "code",
   "execution_count": 3,
   "metadata": {},
   "outputs": [],
   "source": [
    "logs = pd.read_csv(path + 'logs_exp.csv', sep='\\t')"
   ]
  },
  {
   "cell_type": "code",
   "execution_count": 4,
   "metadata": {},
   "outputs": [
    {
     "data": {
      "text/html": [
       "<div>\n",
       "<style scoped>\n",
       "    .dataframe tbody tr th:only-of-type {\n",
       "        vertical-align: middle;\n",
       "    }\n",
       "\n",
       "    .dataframe tbody tr th {\n",
       "        vertical-align: top;\n",
       "    }\n",
       "\n",
       "    .dataframe thead th {\n",
       "        text-align: right;\n",
       "    }\n",
       "</style>\n",
       "<table border=\"1\" class=\"dataframe\">\n",
       "  <thead>\n",
       "    <tr style=\"text-align: right;\">\n",
       "      <th></th>\n",
       "      <th>EventName</th>\n",
       "      <th>DeviceIDHash</th>\n",
       "      <th>EventTimestamp</th>\n",
       "      <th>ExpId</th>\n",
       "    </tr>\n",
       "  </thead>\n",
       "  <tbody>\n",
       "    <tr>\n",
       "      <td>0</td>\n",
       "      <td>MainScreenAppear</td>\n",
       "      <td>4575588528974610257</td>\n",
       "      <td>1564029816</td>\n",
       "      <td>246</td>\n",
       "    </tr>\n",
       "    <tr>\n",
       "      <td>1</td>\n",
       "      <td>MainScreenAppear</td>\n",
       "      <td>7416695313311560658</td>\n",
       "      <td>1564053102</td>\n",
       "      <td>246</td>\n",
       "    </tr>\n",
       "    <tr>\n",
       "      <td>2</td>\n",
       "      <td>PaymentScreenSuccessful</td>\n",
       "      <td>3518123091307005509</td>\n",
       "      <td>1564054127</td>\n",
       "      <td>248</td>\n",
       "    </tr>\n",
       "    <tr>\n",
       "      <td>3</td>\n",
       "      <td>CartScreenAppear</td>\n",
       "      <td>3518123091307005509</td>\n",
       "      <td>1564054127</td>\n",
       "      <td>248</td>\n",
       "    </tr>\n",
       "    <tr>\n",
       "      <td>4</td>\n",
       "      <td>PaymentScreenSuccessful</td>\n",
       "      <td>6217807653094995999</td>\n",
       "      <td>1564055322</td>\n",
       "      <td>248</td>\n",
       "    </tr>\n",
       "  </tbody>\n",
       "</table>\n",
       "</div>"
      ],
      "text/plain": [
       "                 EventName         DeviceIDHash  EventTimestamp  ExpId\n",
       "0         MainScreenAppear  4575588528974610257      1564029816    246\n",
       "1         MainScreenAppear  7416695313311560658      1564053102    246\n",
       "2  PaymentScreenSuccessful  3518123091307005509      1564054127    248\n",
       "3         CartScreenAppear  3518123091307005509      1564054127    248\n",
       "4  PaymentScreenSuccessful  6217807653094995999      1564055322    248"
      ]
     },
     "execution_count": 4,
     "metadata": {},
     "output_type": "execute_result"
    }
   ],
   "source": [
    "logs.head()"
   ]
  },
  {
   "cell_type": "markdown",
   "metadata": {},
   "source": [
    "### Описание данных\n",
    "\n",
    "Таблица **logs**:\n",
    "- **EventName** — название события;\n",
    "- **DeviceIDHash** — уникальный идентификатор пользователя;\n",
    "- **EventTimestamp** — время события;\n",
    "- **ExpId** — номер эксперимента: 246 и 247 — контрольные группы, а 248 — экспериментальная."
   ]
  },
  {
   "cell_type": "markdown",
   "metadata": {},
   "source": [
    "Данные загружены и готовы к дальнейшей работе"
   ]
  },
  {
   "cell_type": "markdown",
   "metadata": {},
   "source": [
    "[Обратно к содержанию](#mark_)"
   ]
  },
  {
   "cell_type": "markdown",
   "metadata": {},
   "source": [
    "# Предобработка данных<a name='mark2'></a>"
   ]
  },
  {
   "cell_type": "markdown",
   "metadata": {},
   "source": [
    "Изменим названия столбцов:"
   ]
  },
  {
   "cell_type": "code",
   "execution_count": 5,
   "metadata": {},
   "outputs": [],
   "source": [
    "logs.set_axis(['event', 'user_id', 'event_time', 'group'], axis = 'columns', inplace = True)"
   ]
  },
  {
   "cell_type": "markdown",
   "metadata": {},
   "source": [
    "Проверим пропуски и типы данных:"
   ]
  },
  {
   "cell_type": "code",
   "execution_count": 6,
   "metadata": {},
   "outputs": [
    {
     "name": "stdout",
     "output_type": "stream",
     "text": [
      "<class 'pandas.core.frame.DataFrame'>\n",
      "RangeIndex: 244126 entries, 0 to 244125\n",
      "Data columns (total 4 columns):\n",
      "event         244126 non-null object\n",
      "user_id       244126 non-null int64\n",
      "event_time    244126 non-null int64\n",
      "group         244126 non-null int64\n",
      "dtypes: int64(3), object(1)\n",
      "memory usage: 7.5+ MB\n"
     ]
    }
   ],
   "source": [
    "logs.info()"
   ]
  },
  {
   "cell_type": "markdown",
   "metadata": {},
   "source": [
    "В нашем датасете 244126 строк, пропусков не обнаруженно. Изменим тип данных колонки event_time"
   ]
  },
  {
   "cell_type": "code",
   "execution_count": 7,
   "metadata": {},
   "outputs": [],
   "source": [
    "logs['event_time'] = pd.to_datetime(logs['event_time'], unit = 's')"
   ]
  },
  {
   "cell_type": "markdown",
   "metadata": {},
   "source": [
    "Проверим наш датасет на дубликаты:"
   ]
  },
  {
   "cell_type": "code",
   "execution_count": 8,
   "metadata": {},
   "outputs": [
    {
     "data": {
      "text/plain": [
       "413"
      ]
     },
     "execution_count": 8,
     "metadata": {},
     "output_type": "execute_result"
    }
   ],
   "source": [
    "logs.duplicated().sum()"
   ]
  },
  {
   "cell_type": "code",
   "execution_count": 9,
   "metadata": {},
   "outputs": [
    {
     "data": {
      "text/plain": [
       "0.0016917493425526163"
      ]
     },
     "execution_count": 9,
     "metadata": {},
     "output_type": "execute_result"
    }
   ],
   "source": [
    "logs.duplicated().sum() / len(logs)"
   ]
  },
  {
   "cell_type": "markdown",
   "metadata": {},
   "source": [
    "Меньше процента дубликатов, удаляем их"
   ]
  },
  {
   "cell_type": "code",
   "execution_count": 10,
   "metadata": {},
   "outputs": [],
   "source": [
    "logs_copy = logs.copy()\n",
    "logs_copy = logs_copy.drop_duplicates()"
   ]
  },
  {
   "cell_type": "code",
   "execution_count": 11,
   "metadata": {},
   "outputs": [
    {
     "data": {
      "text/plain": [
       "0"
      ]
     },
     "execution_count": 11,
     "metadata": {},
     "output_type": "execute_result"
    }
   ],
   "source": [
    "logs_copy.duplicated().sum()"
   ]
  },
  {
   "cell_type": "markdown",
   "metadata": {},
   "source": [
    "Выделим в отдельный столбец дату события:"
   ]
  },
  {
   "cell_type": "code",
   "execution_count": 12,
   "metadata": {},
   "outputs": [],
   "source": [
    "logs_copy['date'] = logs['event_time'].dt.date"
   ]
  },
  {
   "cell_type": "code",
   "execution_count": 13,
   "metadata": {},
   "outputs": [
    {
     "data": {
      "text/html": [
       "<div>\n",
       "<style scoped>\n",
       "    .dataframe tbody tr th:only-of-type {\n",
       "        vertical-align: middle;\n",
       "    }\n",
       "\n",
       "    .dataframe tbody tr th {\n",
       "        vertical-align: top;\n",
       "    }\n",
       "\n",
       "    .dataframe thead th {\n",
       "        text-align: right;\n",
       "    }\n",
       "</style>\n",
       "<table border=\"1\" class=\"dataframe\">\n",
       "  <thead>\n",
       "    <tr style=\"text-align: right;\">\n",
       "      <th></th>\n",
       "      <th>event</th>\n",
       "      <th>user_id</th>\n",
       "      <th>event_time</th>\n",
       "      <th>group</th>\n",
       "      <th>date</th>\n",
       "    </tr>\n",
       "  </thead>\n",
       "  <tbody>\n",
       "    <tr>\n",
       "      <td>0</td>\n",
       "      <td>MainScreenAppear</td>\n",
       "      <td>4575588528974610257</td>\n",
       "      <td>2019-07-25 04:43:36</td>\n",
       "      <td>246</td>\n",
       "      <td>2019-07-25</td>\n",
       "    </tr>\n",
       "    <tr>\n",
       "      <td>1</td>\n",
       "      <td>MainScreenAppear</td>\n",
       "      <td>7416695313311560658</td>\n",
       "      <td>2019-07-25 11:11:42</td>\n",
       "      <td>246</td>\n",
       "      <td>2019-07-25</td>\n",
       "    </tr>\n",
       "    <tr>\n",
       "      <td>2</td>\n",
       "      <td>PaymentScreenSuccessful</td>\n",
       "      <td>3518123091307005509</td>\n",
       "      <td>2019-07-25 11:28:47</td>\n",
       "      <td>248</td>\n",
       "      <td>2019-07-25</td>\n",
       "    </tr>\n",
       "    <tr>\n",
       "      <td>3</td>\n",
       "      <td>CartScreenAppear</td>\n",
       "      <td>3518123091307005509</td>\n",
       "      <td>2019-07-25 11:28:47</td>\n",
       "      <td>248</td>\n",
       "      <td>2019-07-25</td>\n",
       "    </tr>\n",
       "    <tr>\n",
       "      <td>4</td>\n",
       "      <td>PaymentScreenSuccessful</td>\n",
       "      <td>6217807653094995999</td>\n",
       "      <td>2019-07-25 11:48:42</td>\n",
       "      <td>248</td>\n",
       "      <td>2019-07-25</td>\n",
       "    </tr>\n",
       "  </tbody>\n",
       "</table>\n",
       "</div>"
      ],
      "text/plain": [
       "                     event              user_id          event_time  group  \\\n",
       "0         MainScreenAppear  4575588528974610257 2019-07-25 04:43:36    246   \n",
       "1         MainScreenAppear  7416695313311560658 2019-07-25 11:11:42    246   \n",
       "2  PaymentScreenSuccessful  3518123091307005509 2019-07-25 11:28:47    248   \n",
       "3         CartScreenAppear  3518123091307005509 2019-07-25 11:28:47    248   \n",
       "4  PaymentScreenSuccessful  6217807653094995999 2019-07-25 11:48:42    248   \n",
       "\n",
       "         date  \n",
       "0  2019-07-25  \n",
       "1  2019-07-25  \n",
       "2  2019-07-25  \n",
       "3  2019-07-25  \n",
       "4  2019-07-25  "
      ]
     },
     "execution_count": 13,
     "metadata": {},
     "output_type": "execute_result"
    }
   ],
   "source": [
    "logs_copy.head()"
   ]
  },
  {
   "cell_type": "markdown",
   "metadata": {},
   "source": [
    "Данные в порядке и готовы к анализу."
   ]
  },
  {
   "cell_type": "markdown",
   "metadata": {},
   "source": [
    "[Обратно к содержанию](#mark_)"
   ]
  },
  {
   "cell_type": "markdown",
   "metadata": {},
   "source": [
    "# Анализ данных<a name='mark3'></a>"
   ]
  },
  {
   "cell_type": "markdown",
   "metadata": {},
   "source": [
    "### Количество событий в логе"
   ]
  },
  {
   "cell_type": "code",
   "execution_count": 14,
   "metadata": {},
   "outputs": [
    {
     "name": "stdout",
     "output_type": "stream",
     "text": [
      "Всего событий в логе: 243713\n"
     ]
    }
   ],
   "source": [
    "events = len(logs_copy)\n",
    "print('Всего событий в логе:', events)"
   ]
  },
  {
   "cell_type": "markdown",
   "metadata": {},
   "source": [
    "### Количество пользователей в логе"
   ]
  },
  {
   "cell_type": "code",
   "execution_count": 15,
   "metadata": {},
   "outputs": [
    {
     "name": "stdout",
     "output_type": "stream",
     "text": [
      "Всего пользователей в логе: 7551\n"
     ]
    }
   ],
   "source": [
    "users = logs_copy['user_id'].nunique()\n",
    "print('Всего пользователей в логе:', users)"
   ]
  },
  {
   "cell_type": "markdown",
   "metadata": {},
   "source": [
    "### Количество пользователей в каждой группе"
   ]
  },
  {
   "cell_type": "code",
   "execution_count": 16,
   "metadata": {},
   "outputs": [
    {
     "data": {
      "text/plain": [
       "group\n",
       "246    2489\n",
       "247    2520\n",
       "248    2542\n",
       "Name: user_id, dtype: int64"
      ]
     },
     "execution_count": 16,
     "metadata": {},
     "output_type": "execute_result"
    }
   ],
   "source": [
    "logs_copy.groupby('group')['user_id'].nunique()"
   ]
  },
  {
   "cell_type": "markdown",
   "metadata": {},
   "source": [
    "### Среднее количество событий на пользователя в логе"
   ]
  },
  {
   "cell_type": "code",
   "execution_count": 17,
   "metadata": {},
   "outputs": [
    {
     "name": "stdout",
     "output_type": "stream",
     "text": [
      "Среднее количество событий на одного пользователя : 32\n"
     ]
    }
   ],
   "source": [
    "print('Среднее количество событий на одного пользователя :', int(round(events/users, 0)))"
   ]
  },
  {
   "cell_type": "markdown",
   "metadata": {},
   "source": [
    "Взглянем на распределение количества событий для каждого посетителя:"
   ]
  },
  {
   "cell_type": "code",
   "execution_count": 18,
   "metadata": {},
   "outputs": [
    {
     "data": {
      "image/png": "[encoded data removed]",
      "text/plain": [
       "<Figure size 432x432 with 1 Axes>"
      ]
     },
     "metadata": {
      "needs_background": "light"
     },
     "output_type": "display_data"
    }
   ],
   "source": [
    "logs_copy.groupby('user_id')['event'].count().hist(bins=100, range=(0,500), figsize=(6,6))\n",
    "plt.xlabel(\"Количества событий для каждого посетителя\")\n",
    "plt.ylabel(\"Частота\")\n",
    "plt.show()"
   ]
  },
  {
   "cell_type": "markdown",
   "metadata": {},
   "source": [
    "Когда распределение близко к нормальному или нормальное — можно смотреть на среднюю или медиану. Наше — не из таких, рассчитаем моду (значение в выборке, которое встречается чаще всего):"
   ]
  },
  {
   "cell_type": "code",
   "execution_count": 19,
   "metadata": {},
   "outputs": [
    {
     "name": "stdout",
     "output_type": "stream",
     "text": [
      "Мода количества событий на одного пользователя : 5\n"
     ]
    }
   ],
   "source": [
    "print('Мода количества событий на одного пользователя :',logs_copy.groupby('user_id')['event'].count().mode()[0])"
   ]
  },
  {
   "cell_type": "markdown",
   "metadata": {},
   "source": [
    "### Временной период"
   ]
  },
  {
   "cell_type": "markdown",
   "metadata": {},
   "source": [
    "Найдем минимальную и максимальную дату из нашего датасета:"
   ]
  },
  {
   "cell_type": "code",
   "execution_count": 20,
   "metadata": {},
   "outputs": [
    {
     "name": "stdout",
     "output_type": "stream",
     "text": [
      "Минимальная дата: 2019-07-25\n",
      "Максимальная дата: 2019-08-07\n"
     ]
    }
   ],
   "source": [
    "print('Минимальная дата:', logs_copy['date'].min())\n",
    "print('Максимальная дата:', logs_copy['date'].max())"
   ]
  },
  {
   "cell_type": "markdown",
   "metadata": {},
   "source": [
    "Оценим, сколько у нас набралось данных для анализа:"
   ]
  },
  {
   "cell_type": "code",
   "execution_count": 21,
   "metadata": {},
   "outputs": [],
   "source": [
    "event_time_grouped = logs_copy.groupby('date')['event_time'].count().reset_index()"
   ]
  },
  {
   "cell_type": "code",
   "execution_count": 22,
   "metadata": {},
   "outputs": [
    {
     "data": {
      "image/png": "[encoded data removed]",
      "text/plain": [
       "<Figure size 1296x648 with 1 Axes>"
      ]
     },
     "metadata": {
      "needs_background": "light"
     },
     "output_type": "display_data"
    }
   ],
   "source": [
    "plt.figure(figsize=(18, 9))\n",
    "ax = sns.barplot(data = event_time_grouped, x = 'date', y='event_time', color='#87CEFA')\n",
    "plt.title('Распределение событий по датам')\n",
    "plt.xlabel('Дата', fontsize = 12)\n",
    "plt.ylabel('Количество событий', fontsize = 12)\n",
    "\n",
    "#Напишем функцию для отрисовки значений\n",
    "def add_value_labels(ax, spacing=5):\n",
    "    for rect in ax.patches:\n",
    "        y_value = rect.get_height()\n",
    "        x_value = rect.get_x() + rect.get_width() / 2\n",
    "\n",
    "        space = spacing\n",
    "        va = 'bottom'\n",
    "\n",
    "        label = \"{:.0f}\".format(y_value)\n",
    "\n",
    "        ax.annotate(label,\n",
    "            (x_value, y_value),         \n",
    "            xytext=(0, space),          \n",
    "            textcoords=\"offset points\",\n",
    "            ha='center')\n",
    "\n",
    "add_value_labels(ax)"
   ]
  },
  {
   "cell_type": "markdown",
   "metadata": {},
   "source": [
    "По графику видно, что у нас недостаточно сведений по первой неделе, отбросим ее для дальнейшего анализа: "
   ]
  },
  {
   "cell_type": "code",
   "execution_count": 23,
   "metadata": {},
   "outputs": [],
   "source": [
    "turndate = pd.to_datetime('2019-08-01', format = '%Y-%m-%d')\n",
    "logs_copy = logs_copy.loc[logs_copy.loc[:,'date'] >= turndate]"
   ]
  },
  {
   "cell_type": "markdown",
   "metadata": {},
   "source": [
    "Оценим, сколько событий и пользователей мы потеряли:"
   ]
  },
  {
   "cell_type": "code",
   "execution_count": 24,
   "metadata": {},
   "outputs": [
    {
     "name": "stdout",
     "output_type": "stream",
     "text": [
      "Количество событий до фильтрации - 243713, после - 240887. Разность - 2826 или 1.16%\n",
      "Количество пользователей до фильтрации - 7551, после - 7534. Разность - 17 или 0.23%\n"
     ]
    }
   ],
   "source": [
    "events_filtered = len(logs_copy)\n",
    "users_filtered = logs_copy['user_id'].nunique()\n",
    "\n",
    "print('Количество событий до фильтрации - {}, после - {}. Разность - {} или {}%'.format(\n",
    "                                                                        events, events_filtered,\n",
    "                                                                        events - events_filtered,\n",
    "                                                                        round(100-events_filtered/events*100, 2)))\n",
    "print('Количество пользователей до фильтрации - {}, после - {}. Разность - {} или {}%'.format(\n",
    "                                                                        users, users_filtered,\n",
    "                                                                        users - users_filtered,\n",
    "                                                                        round(100-users_filtered/users*100, 2)))"
   ]
  },
  {
   "cell_type": "markdown",
   "metadata": {},
   "source": [
    "Проверим, что все группы на месте:"
   ]
  },
  {
   "cell_type": "code",
   "execution_count": 25,
   "metadata": {},
   "outputs": [
    {
     "data": {
      "text/plain": [
       "group\n",
       "246    2484\n",
       "247    2513\n",
       "248    2537\n",
       "Name: user_id, dtype: int64"
      ]
     },
     "execution_count": 25,
     "metadata": {},
     "output_type": "execute_result"
    }
   ],
   "source": [
    "logs_copy.groupby('group')['user_id'].nunique()"
   ]
  },
  {
   "cell_type": "markdown",
   "metadata": {},
   "source": [
    "[Обратно к содержанию](#mark_)"
   ]
  },
  {
   "cell_type": "markdown",
   "metadata": {},
   "source": [
    "# Изучение воронки событий<a name='mark4'></a>"
   ]
  },
  {
   "cell_type": "markdown",
   "metadata": {},
   "source": [
    "### Какие события есть в логах"
   ]
  },
  {
   "cell_type": "markdown",
   "metadata": {},
   "source": [
    "Посмотрим, какие события есть в логах и как часто они встречаются:"
   ]
  },
  {
   "cell_type": "code",
   "execution_count": 26,
   "metadata": {},
   "outputs": [
    {
     "data": {
      "text/html": [
       "<div>\n",
       "<style scoped>\n",
       "    .dataframe tbody tr th:only-of-type {\n",
       "        vertical-align: middle;\n",
       "    }\n",
       "\n",
       "    .dataframe tbody tr th {\n",
       "        vertical-align: top;\n",
       "    }\n",
       "\n",
       "    .dataframe thead th {\n",
       "        text-align: right;\n",
       "    }\n",
       "</style>\n",
       "<table border=\"1\" class=\"dataframe\">\n",
       "  <thead>\n",
       "    <tr style=\"text-align: right;\">\n",
       "      <th></th>\n",
       "      <th>event</th>\n",
       "    </tr>\n",
       "  </thead>\n",
       "  <tbody>\n",
       "    <tr>\n",
       "      <td>MainScreenAppear</td>\n",
       "      <td>117328</td>\n",
       "    </tr>\n",
       "    <tr>\n",
       "      <td>OffersScreenAppear</td>\n",
       "      <td>46333</td>\n",
       "    </tr>\n",
       "    <tr>\n",
       "      <td>CartScreenAppear</td>\n",
       "      <td>42303</td>\n",
       "    </tr>\n",
       "    <tr>\n",
       "      <td>PaymentScreenSuccessful</td>\n",
       "      <td>33918</td>\n",
       "    </tr>\n",
       "    <tr>\n",
       "      <td>Tutorial</td>\n",
       "      <td>1005</td>\n",
       "    </tr>\n",
       "  </tbody>\n",
       "</table>\n",
       "</div>"
      ],
      "text/plain": [
       "                          event\n",
       "MainScreenAppear         117328\n",
       "OffersScreenAppear        46333\n",
       "CartScreenAppear          42303\n",
       "PaymentScreenSuccessful   33918\n",
       "Tutorial                   1005"
      ]
     },
     "execution_count": 26,
     "metadata": {},
     "output_type": "execute_result"
    }
   ],
   "source": [
    "events_count = logs_copy['event'].value_counts().to_frame()\n",
    "events_count"
   ]
  },
  {
   "cell_type": "markdown",
   "metadata": {},
   "source": [
    "### Количество пользователей совершавших каждое из этих событий"
   ]
  },
  {
   "cell_type": "markdown",
   "metadata": {},
   "source": [
    "Найдем количество пользователей, совершивших каждое событие и долю пользователей, которые хоть раз совершали событие:"
   ]
  },
  {
   "cell_type": "code",
   "execution_count": 27,
   "metadata": {},
   "outputs": [],
   "source": [
    "# Функция для подсчета количества пользователей, выпонивших определенное действие\n",
    "def get_event_count(event):\n",
    "    users_count = logs_copy[logs_copy['event'] == event]['user_id'].nunique()\n",
    "    return users_count"
   ]
  },
  {
   "cell_type": "code",
   "execution_count": 28,
   "metadata": {},
   "outputs": [],
   "source": [
    "events_count = events_count.reset_index()\n",
    "events_count['users_count'] = events_count['index'].apply(get_event_count)\n",
    "events_count = events_count.sort_values(by='users_count', ascending=False)\n",
    "events_count = events_count.set_index('index')\n",
    "events_count.index.name = None\n",
    "events_count['percent'] = events_count['users_count'].apply(lambda x: round(x/7419*100, 2))"
   ]
  },
  {
   "cell_type": "code",
   "execution_count": 29,
   "metadata": {},
   "outputs": [
    {
     "data": {
      "text/html": [
       "<div>\n",
       "<style scoped>\n",
       "    .dataframe tbody tr th:only-of-type {\n",
       "        vertical-align: middle;\n",
       "    }\n",
       "\n",
       "    .dataframe tbody tr th {\n",
       "        vertical-align: top;\n",
       "    }\n",
       "\n",
       "    .dataframe thead th {\n",
       "        text-align: right;\n",
       "    }\n",
       "</style>\n",
       "<table border=\"1\" class=\"dataframe\">\n",
       "  <thead>\n",
       "    <tr style=\"text-align: right;\">\n",
       "      <th></th>\n",
       "      <th>event</th>\n",
       "      <th>users_count</th>\n",
       "      <th>percent</th>\n",
       "      <th>percent_corr</th>\n",
       "    </tr>\n",
       "  </thead>\n",
       "  <tbody>\n",
       "    <tr>\n",
       "      <td>MainScreenAppear</td>\n",
       "      <td>117328</td>\n",
       "      <td>7419</td>\n",
       "      <td>100.00</td>\n",
       "      <td>98.47</td>\n",
       "    </tr>\n",
       "    <tr>\n",
       "      <td>OffersScreenAppear</td>\n",
       "      <td>46333</td>\n",
       "      <td>4593</td>\n",
       "      <td>61.91</td>\n",
       "      <td>60.96</td>\n",
       "    </tr>\n",
       "    <tr>\n",
       "      <td>CartScreenAppear</td>\n",
       "      <td>42303</td>\n",
       "      <td>3734</td>\n",
       "      <td>50.33</td>\n",
       "      <td>49.56</td>\n",
       "    </tr>\n",
       "    <tr>\n",
       "      <td>PaymentScreenSuccessful</td>\n",
       "      <td>33918</td>\n",
       "      <td>3539</td>\n",
       "      <td>47.70</td>\n",
       "      <td>46.97</td>\n",
       "    </tr>\n",
       "    <tr>\n",
       "      <td>Tutorial</td>\n",
       "      <td>1005</td>\n",
       "      <td>840</td>\n",
       "      <td>11.32</td>\n",
       "      <td>11.15</td>\n",
       "    </tr>\n",
       "  </tbody>\n",
       "</table>\n",
       "</div>"
      ],
      "text/plain": [
       "                          event  users_count  percent  percent_corr\n",
       "MainScreenAppear         117328         7419   100.00         98.47\n",
       "OffersScreenAppear        46333         4593    61.91         60.96\n",
       "CartScreenAppear          42303         3734    50.33         49.56\n",
       "PaymentScreenSuccessful   33918         3539    47.70         46.97\n",
       "Tutorial                   1005          840    11.32         11.15"
      ]
     },
     "execution_count": 29,
     "metadata": {},
     "output_type": "execute_result"
    }
   ],
   "source": [
    "events_count['percent_corr'] = events_count['users_count'].apply(lambda x: round(x/users_filtered*100, 2))\n",
    "events_count"
   ]
  },
  {
   "cell_type": "markdown",
   "metadata": {},
   "source": [
    "### Последовательность событий"
   ]
  },
  {
   "cell_type": "markdown",
   "metadata": {},
   "source": [
    "События идут в следующей последовательности:\n",
    "\n",
    "1) **MainScreenAppear** - пользователь попал на главную страницу;  \n",
    "2) **OffersScreenAppear** - пользователь перешел на страницу с товаром;  \n",
    "3) **CartScreenAppear** - пользователь перешел в корзину;  \n",
    "4) **PaymentScreenSuccessful** - пользователь удачно оплатил товар.  \n",
    "\n",
    "Событие **Tutorial** (пользователь зашел в руководство по приложению) в данном случае является не обязательным, так как оно не сильно влияет на достижение конечного результата, а является вспомогательным.\n",
    "\n",
    "Исключим это действие из нашего дальнейшего анализа:"
   ]
  },
  {
   "cell_type": "code",
   "execution_count": 30,
   "metadata": {},
   "outputs": [],
   "source": [
    "logs_funnel = events_count.drop('Tutorial')"
   ]
  },
  {
   "cell_type": "code",
   "execution_count": 31,
   "metadata": {},
   "outputs": [
    {
     "data": {
      "text/html": [
       "<div>\n",
       "<style scoped>\n",
       "    .dataframe tbody tr th:only-of-type {\n",
       "        vertical-align: middle;\n",
       "    }\n",
       "\n",
       "    .dataframe tbody tr th {\n",
       "        vertical-align: top;\n",
       "    }\n",
       "\n",
       "    .dataframe thead th {\n",
       "        text-align: right;\n",
       "    }\n",
       "</style>\n",
       "<table border=\"1\" class=\"dataframe\">\n",
       "  <thead>\n",
       "    <tr style=\"text-align: right;\">\n",
       "      <th></th>\n",
       "      <th>event</th>\n",
       "      <th>users_count</th>\n",
       "      <th>percent</th>\n",
       "      <th>percent_corr</th>\n",
       "    </tr>\n",
       "  </thead>\n",
       "  <tbody>\n",
       "    <tr>\n",
       "      <td>MainScreenAppear</td>\n",
       "      <td>117328</td>\n",
       "      <td>7419</td>\n",
       "      <td>100.00</td>\n",
       "      <td>98.47</td>\n",
       "    </tr>\n",
       "    <tr>\n",
       "      <td>OffersScreenAppear</td>\n",
       "      <td>46333</td>\n",
       "      <td>4593</td>\n",
       "      <td>61.91</td>\n",
       "      <td>60.96</td>\n",
       "    </tr>\n",
       "    <tr>\n",
       "      <td>CartScreenAppear</td>\n",
       "      <td>42303</td>\n",
       "      <td>3734</td>\n",
       "      <td>50.33</td>\n",
       "      <td>49.56</td>\n",
       "    </tr>\n",
       "    <tr>\n",
       "      <td>PaymentScreenSuccessful</td>\n",
       "      <td>33918</td>\n",
       "      <td>3539</td>\n",
       "      <td>47.70</td>\n",
       "      <td>46.97</td>\n",
       "    </tr>\n",
       "  </tbody>\n",
       "</table>\n",
       "</div>"
      ],
      "text/plain": [
       "                          event  users_count  percent  percent_corr\n",
       "MainScreenAppear         117328         7419   100.00         98.47\n",
       "OffersScreenAppear        46333         4593    61.91         60.96\n",
       "CartScreenAppear          42303         3734    50.33         49.56\n",
       "PaymentScreenSuccessful   33918         3539    47.70         46.97"
      ]
     },
     "execution_count": 31,
     "metadata": {},
     "output_type": "execute_result"
    }
   ],
   "source": [
    "logs_funnel"
   ]
  },
  {
   "cell_type": "code",
   "execution_count": 32,
   "metadata": {},
   "outputs": [
    {
     "data": {
      "image/svg+xml": [
       "<svg class=\"main-svg\" xmlns=\"http://www.w3.org/2000/svg\" xmlns:xlink=\"http://www.w3.org/1999/xlink\" width=\"700\" height=\"450\" style=\"\" viewBox=\"0 0 700 450\"><rect x=\"0\" y=\"0\" width=\"700\" height=\"450\" style=\"fill: rgb(255, 255, 255); fill-opacity: 1;\"/><defs id=\"defs-c70551\"><g class=\"clips\"><clipPath id=\"clipc70551xyplot\" class=\"plotclip\"><rect width=\"424\" height=\"270\"/></clipPath><clipPath class=\"axesclip\" id=\"clipc70551x\"><rect x=\"196\" y=\"0\" width=\"424\" height=\"450\"/></clipPath><clipPath class=\"axesclip\" id=\"clipc70551y\"><rect x=\"0\" y=\"100\" width=\"700\" height=\"270\"/></clipPath><clipPath class=\"axesclip\" id=\"clipc70551xy\"><rect x=\"196\" y=\"100\" width=\"424\" height=\"270\"/></clipPath></g><g class=\"gradients\"/></defs><g class=\"bglayer\"><rect class=\"bg\" x=\"196\" y=\"100\" width=\"424\" height=\"270\" style=\"fill: rgb(229, 236, 246); fill-opacity: 1; stroke-width: 0;\"/></g><g class=\"layer-below\"><g class=\"imagelayer\"/><g class=\"shapelayer\"/></g><g class=\"cartesianlayer\"><g class=\"subplot xy\"><g class=\"layer-subplot\"><g class=\"shapelayer\"/><g class=\"imagelayer\"/></g><g class=\"gridlayer\"><g class=\"x\"/><g class=\"y\"/></g><g class=\"zerolinelayer\"/><path class=\"xlines-below\"/><path class=\"ylines-below\"/><g class=\"overlines-below\"/><g class=\"xaxislayer-below\"/><g class=\"yaxislayer-below\"/><g class=\"overaxes-below\"/><g class=\"plot\" transform=\"translate(196, 100)\" clip-path=\"url('#clipc70551xyplot')\"><g class=\"funnellayer mlayer\"><g class=\"trace bars\" style=\"opacity: 1;\"><g class=\"regions\"><g class=\"region\"><path d=\"M21.2,60.75L93.88,74.25H330.12L402.8,60.75Z\" style=\"stroke-width: 0; fill: rgb(99, 110, 250); fill-opacity: 0.5;\"/></g><g class=\"region\"><path d=\"M93.88,128.25L115.97,141.75H308.03L330.12,128.25Z\" style=\"stroke-width: 0; fill: rgb(99, 110, 250); fill-opacity: 0.5;\"/></g><g class=\"region\"><path d=\"M115.97,195.75L120.98,209.25H303.02L308.03,195.75Z\" style=\"stroke-width: 0; fill: rgb(99, 110, 250); fill-opacity: 0.5;\"/></g><g class=\"region\"><path d=\"\" style=\"stroke-width: 0; fill: rgb(99, 110, 250); fill-opacity: 0.5;\"/></g></g><g class=\"points\"><g class=\"point\"><path d=\"M21.2,6.75V60.75H402.8V6.75Z\" style=\"vector-effect: non-scaling-stroke; fill: rgb(99, 110, 250); fill-opacity: 1; stroke: rgb(68, 68, 68); stroke-opacity: 1; stroke-width: 0px; opacity: 1;\"/><text class=\"bartext bartext-inside\" transform=\"translate(211.9296875 22.9453125)\" text-anchor=\"middle\" data-notex=\"1\" x=\"0\" y=\"0\" style=\"font-family: 'Open Sans', verdana, arial, sans-serif; font-size: 12px; fill: rgb(255, 255, 255); fill-opacity: 1; white-space: pre;\"><tspan class=\"line\" dy=\"0em\" x=\"0\" y=\"0\">7419</tspan><tspan class=\"line\" dy=\"1.3em\" x=\"0\" y=\"0\">100% of initial</tspan><tspan class=\"line\" dy=\"2.6em\" x=\"0\" y=\"0\">100% of previous</tspan></text></g><g class=\"point\"><path d=\"M93.88,74.25V128.25H330.12V74.25Z\" style=\"vector-effect: non-scaling-stroke; fill: rgb(99, 110, 250); fill-opacity: 1; stroke: rgb(68, 68, 68); stroke-opacity: 1; stroke-width: 0px; opacity: 1;\"/><text class=\"bartext bartext-inside\" transform=\"translate(211.9296875 90.4453125)\" text-anchor=\"middle\" data-notex=\"1\" x=\"0\" y=\"0\" style=\"font-family: 'Open Sans', verdana, arial, sans-serif; font-size: 12px; fill: rgb(255, 255, 255); fill-opacity: 1; white-space: pre;\"><tspan class=\"line\" dy=\"0em\" x=\"0\" y=\"0\">4593</tspan><tspan class=\"line\" dy=\"1.3em\" x=\"0\" y=\"0\">62% of initial</tspan><tspan class=\"line\" dy=\"2.6em\" x=\"0\" y=\"0\">62% of previous</tspan></text></g><g class=\"point\"><path d=\"M115.97,141.75V195.75H308.03V141.75Z\" style=\"vector-effect: non-scaling-stroke; fill: rgb(99, 110, 250); fill-opacity: 1; stroke: rgb(68, 68, 68); stroke-opacity: 1; stroke-width: 0px; opacity: 1;\"/><text class=\"bartext bartext-inside\" transform=\"translate(211.9296875 157.9453125)\" text-anchor=\"middle\" data-notex=\"1\" x=\"0\" y=\"0\" style=\"font-family: 'Open Sans', verdana, arial, sans-serif; font-size: 12px; fill: rgb(255, 255, 255); fill-opacity: 1; white-space: pre;\"><tspan class=\"line\" dy=\"0em\" x=\"0\" y=\"0\">3734</tspan><tspan class=\"line\" dy=\"1.3em\" x=\"0\" y=\"0\">50% of initial</tspan><tspan class=\"line\" dy=\"2.6em\" x=\"0\" y=\"0\">81% of previous</tspan></text></g><g class=\"point\"><path d=\"M120.98,209.25V263.25H303.02V209.25Z\" style=\"vector-effect: non-scaling-stroke; fill: rgb(99, 110, 250); fill-opacity: 1; stroke: rgb(68, 68, 68); stroke-opacity: 1; stroke-width: 0px; opacity: 1;\"/><text class=\"bartext bartext-inside\" transform=\"translate(211.9296875 225.4453125)\" text-anchor=\"middle\" data-notex=\"1\" x=\"0\" y=\"0\" style=\"font-family: 'Open Sans', verdana, arial, sans-serif; font-size: 12px; fill: rgb(255, 255, 255); fill-opacity: 1; white-space: pre;\"><tspan class=\"line\" dy=\"0em\" x=\"0\" y=\"0\">3539</tspan><tspan class=\"line\" dy=\"1.3em\" x=\"0\" y=\"0\">48% of initial</tspan><tspan class=\"line\" dy=\"2.6em\" x=\"0\" y=\"0\">95% of previous</tspan></text></g></g></g></g></g><g class=\"overplot\"/><path class=\"xlines-above crisp\" d=\"M0,0\" style=\"fill: none;\"/><path class=\"ylines-above crisp\" d=\"M0,0\" style=\"fill: none;\"/><g class=\"overlines-above\"/><g class=\"xaxislayer-above\"/><g class=\"yaxislayer-above\"><g class=\"ytick\"><text text-anchor=\"end\" x=\"195\" y=\"4.199999999999999\" transform=\"translate(0,336.25)\" style=\"font-family: 'Open Sans', verdana, arial, sans-serif; font-size: 12px; fill: rgb(42, 63, 95); fill-opacity: 1; white-space: pre;\">Оплатили</text></g><g class=\"ytick\"><text text-anchor=\"end\" x=\"195\" y=\"4.199999999999999\" transform=\"translate(0,268.75)\" style=\"font-family: 'Open Sans', verdana, arial, sans-serif; font-size: 12px; fill: rgb(42, 63, 95); fill-opacity: 1; white-space: pre;\">Добавили товар в корзину</text></g><g class=\"ytick\"><text text-anchor=\"end\" x=\"195\" y=\"4.199999999999999\" transform=\"translate(0,201.25)\" style=\"font-family: 'Open Sans', verdana, arial, sans-serif; font-size: 12px; fill: rgb(42, 63, 95); fill-opacity: 1; white-space: pre;\">Перешли на страницу товара</text></g><g class=\"ytick\"><text text-anchor=\"end\" x=\"195\" y=\"4.199999999999999\" transform=\"translate(0,133.75)\" style=\"font-family: 'Open Sans', verdana, arial, sans-serif; font-size: 12px; fill: rgb(42, 63, 95); fill-opacity: 1; white-space: pre;\">Посетителей</text></g></g><g class=\"overaxes-above\"/></g></g><g class=\"polarlayer\"/><g class=\"ternarylayer\"/><g class=\"geolayer\"/><g class=\"funnelarealayer\"/><g class=\"pielayer\"/><g class=\"sunburstlayer\"/><g class=\"glimages\"/><defs id=\"topdefs-c70551\"><g class=\"clips\"/></defs><g class=\"layer-above\"><g class=\"imagelayer\"/><g class=\"shapelayer\"/></g><g class=\"infolayer\"><g class=\"g-gtitle\"/><g class=\"g-ytitle\"/></g></svg>"
      ]
     },
     "metadata": {},
     "output_type": "display_data"
    }
   ],
   "source": [
    "fig = go.Figure(go.Funnel(\n",
    "                y = [\"Посетителей\", \"Перешли на страницу товара\", \"Добавили товар в корзину\", \"Оплатили\"],\n",
    "                x = logs_funnel['users_count'],\n",
    "                hoverinfo = 'x+y+percent initial+percent previous',\n",
    "                textposition = \"inside\",\n",
    "                textinfo = \"value+percent initial+percent previous\")\n",
    "                )\n",
    "fig.show(renderer='svg')"
   ]
  },
  {
   "cell_type": "markdown",
   "metadata": {},
   "source": [
    "Больше всего посетителей теряются на втором шаге (переход на страницу товара).  \n",
    "48% посетителей успешно оформляют у нас покупку."
   ]
  },
  {
   "cell_type": "markdown",
   "metadata": {},
   "source": [
    "[Обратно к содержанию](#mark_)"
   ]
  },
  {
   "cell_type": "markdown",
   "metadata": {},
   "source": [
    "# Изучение результатов эксперимента<a name='mark5'></a>"
   ]
  },
  {
   "cell_type": "markdown",
   "metadata": {},
   "source": [
    "### Сколько пользователей в каждой экспериментальной группе"
   ]
  },
  {
   "cell_type": "code",
   "execution_count": 33,
   "metadata": {},
   "outputs": [
    {
     "data": {
      "image/png": "[encoded data removed]",
      "text/plain": [
       "<Figure size 432x288 with 1 Axes>"
      ]
     },
     "metadata": {
      "needs_background": "light"
     },
     "output_type": "display_data"
    }
   ],
   "source": [
    "ax = sns.barplot(data=logs_copy.groupby('group')['user_id'].nunique().to_frame().reset_index(), \n",
    "                 x='group',\n",
    "                 y='user_id')\n",
    "plt.ylim(0, 3000)\n",
    "plt.title('Распределение пользователей по группам')\n",
    "plt.xlabel('Группы', fontsize = 12)\n",
    "plt.ylabel('Количество пользователей', fontsize = 12)\n",
    "\n",
    "def add_value_labels(ax, spacing=5):\n",
    "    for rect in ax.patches:\n",
    "        y_value = rect.get_height()\n",
    "        x_value = rect.get_x() + rect.get_width() / 2\n",
    "\n",
    "        space = spacing\n",
    "        va = 'bottom'\n",
    "\n",
    "        label = \"{:.0f}\".format(y_value)\n",
    "\n",
    "        ax.annotate(label,\n",
    "            (x_value, y_value),         \n",
    "            xytext=(0, space),          \n",
    "            textcoords=\"offset points\",\n",
    "            ha='center')\n",
    "\n",
    "add_value_labels(ax)"
   ]
  },
  {
   "cell_type": "code",
   "execution_count": 34,
   "metadata": {},
   "outputs": [
    {
     "data": {
      "text/html": [
       "<div>\n",
       "<style scoped>\n",
       "    .dataframe tbody tr th:only-of-type {\n",
       "        vertical-align: middle;\n",
       "    }\n",
       "\n",
       "    .dataframe tbody tr th {\n",
       "        vertical-align: top;\n",
       "    }\n",
       "\n",
       "    .dataframe thead th {\n",
       "        text-align: right;\n",
       "    }\n",
       "</style>\n",
       "<table border=\"1\" class=\"dataframe\">\n",
       "  <thead>\n",
       "    <tr style=\"text-align: right;\">\n",
       "      <th></th>\n",
       "      <th>user_id</th>\n",
       "    </tr>\n",
       "    <tr>\n",
       "      <th>group</th>\n",
       "      <th></th>\n",
       "    </tr>\n",
       "  </thead>\n",
       "  <tbody>\n",
       "    <tr>\n",
       "      <td>246</td>\n",
       "      <td>2484</td>\n",
       "    </tr>\n",
       "    <tr>\n",
       "      <td>247</td>\n",
       "      <td>2513</td>\n",
       "    </tr>\n",
       "    <tr>\n",
       "      <td>248</td>\n",
       "      <td>2537</td>\n",
       "    </tr>\n",
       "  </tbody>\n",
       "</table>\n",
       "</div>"
      ],
      "text/plain": [
       "       user_id\n",
       "group         \n",
       "246       2484\n",
       "247       2513\n",
       "248       2537"
      ]
     },
     "execution_count": 34,
     "metadata": {},
     "output_type": "execute_result"
    }
   ],
   "source": [
    "data = logs_copy.groupby('group')['user_id'].nunique().to_frame()\n",
    "data"
   ]
  },
  {
   "cell_type": "code",
   "execution_count": 35,
   "metadata": {},
   "outputs": [
    {
     "data": {
      "text/html": [
       "<div>\n",
       "<style scoped>\n",
       "    .dataframe tbody tr th:only-of-type {\n",
       "        vertical-align: middle;\n",
       "    }\n",
       "\n",
       "    .dataframe tbody tr th {\n",
       "        vertical-align: top;\n",
       "    }\n",
       "\n",
       "    .dataframe thead th {\n",
       "        text-align: right;\n",
       "    }\n",
       "</style>\n",
       "<table border=\"1\" class=\"dataframe\">\n",
       "  <thead>\n",
       "    <tr style=\"text-align: right;\">\n",
       "      <th></th>\n",
       "      <th>users_count</th>\n",
       "    </tr>\n",
       "    <tr>\n",
       "      <th>group</th>\n",
       "      <th></th>\n",
       "    </tr>\n",
       "  </thead>\n",
       "  <tbody>\n",
       "    <tr>\n",
       "      <td>246</td>\n",
       "      <td>2484</td>\n",
       "    </tr>\n",
       "    <tr>\n",
       "      <td>247</td>\n",
       "      <td>2513</td>\n",
       "    </tr>\n",
       "    <tr>\n",
       "      <td>248</td>\n",
       "      <td>2537</td>\n",
       "    </tr>\n",
       "  </tbody>\n",
       "</table>\n",
       "</div>"
      ],
      "text/plain": [
       "       users_count\n",
       "group             \n",
       "246           2484\n",
       "247           2513\n",
       "248           2537"
      ]
     },
     "execution_count": 35,
     "metadata": {},
     "output_type": "execute_result"
    }
   ],
   "source": [
    "data.rename(columns={'user_id': 'users_count'}, inplace=True)\n",
    "data"
   ]
  },
  {
   "cell_type": "markdown",
   "metadata": {},
   "source": [
    "Выведем информацию по событиям по каждой группе:"
   ]
  },
  {
   "cell_type": "code",
   "execution_count": 36,
   "metadata": {},
   "outputs": [
    {
     "data": {
      "text/html": [
       "<div>\n",
       "<style scoped>\n",
       "    .dataframe tbody tr th:only-of-type {\n",
       "        vertical-align: middle;\n",
       "    }\n",
       "\n",
       "    .dataframe tbody tr th {\n",
       "        vertical-align: top;\n",
       "    }\n",
       "\n",
       "    .dataframe thead th {\n",
       "        text-align: right;\n",
       "    }\n",
       "</style>\n",
       "<table border=\"1\" class=\"dataframe\">\n",
       "  <thead>\n",
       "    <tr style=\"text-align: right;\">\n",
       "      <th></th>\n",
       "      <th>users_count</th>\n",
       "      <th>MainScreenAppear</th>\n",
       "      <th>OffersScreenAppear</th>\n",
       "      <th>CartScreenAppear</th>\n",
       "      <th>PaymentScreenSuccessful</th>\n",
       "      <th>Tutorial</th>\n",
       "    </tr>\n",
       "  </thead>\n",
       "  <tbody>\n",
       "    <tr>\n",
       "      <td>246</td>\n",
       "      <td>2484</td>\n",
       "      <td>2450</td>\n",
       "      <td>1542</td>\n",
       "      <td>1266</td>\n",
       "      <td>1200</td>\n",
       "      <td>278</td>\n",
       "    </tr>\n",
       "    <tr>\n",
       "      <td>247</td>\n",
       "      <td>2513</td>\n",
       "      <td>2476</td>\n",
       "      <td>1520</td>\n",
       "      <td>1238</td>\n",
       "      <td>1158</td>\n",
       "      <td>283</td>\n",
       "    </tr>\n",
       "    <tr>\n",
       "      <td>246+247</td>\n",
       "      <td>4997</td>\n",
       "      <td>4926</td>\n",
       "      <td>3062</td>\n",
       "      <td>2504</td>\n",
       "      <td>2358</td>\n",
       "      <td>561</td>\n",
       "    </tr>\n",
       "    <tr>\n",
       "      <td>248</td>\n",
       "      <td>2537</td>\n",
       "      <td>2493</td>\n",
       "      <td>1531</td>\n",
       "      <td>1230</td>\n",
       "      <td>1181</td>\n",
       "      <td>279</td>\n",
       "    </tr>\n",
       "  </tbody>\n",
       "</table>\n",
       "</div>"
      ],
      "text/plain": [
       "         users_count  MainScreenAppear  OffersScreenAppear  CartScreenAppear  \\\n",
       "246             2484              2450                1542              1266   \n",
       "247             2513              2476                1520              1238   \n",
       "246+247         4997              4926                3062              2504   \n",
       "248             2537              2493                1531              1230   \n",
       "\n",
       "         PaymentScreenSuccessful  Tutorial  \n",
       "246                         1200       278  \n",
       "247                         1158       283  \n",
       "246+247                     2358       561  \n",
       "248                         1181       279  "
      ]
     },
     "execution_count": 36,
     "metadata": {},
     "output_type": "execute_result"
    }
   ],
   "source": [
    "users_by_events = logs_copy.pivot_table(index = 'group',\n",
    "                                        columns = 'event',\n",
    "                                        values = 'user_id',\n",
    "                                        aggfunc = 'nunique').rename_axis(None)\n",
    "\n",
    "# Добавим количество пользователей в каждой группе\n",
    "users_count = logs_copy.groupby('group')['user_id'].nunique().to_frame()\n",
    "users_count.rename(columns={'user_id': 'users_count'}, inplace=True)\n",
    "users_by_events = users_by_events.join(users_count)\n",
    "\n",
    "# Поставим события в логическом порядке\n",
    "users_by_events = users_by_events[['users_count','MainScreenAppear', 'OffersScreenAppear',\n",
    "                                   'CartScreenAppear', 'PaymentScreenSuccessful', 'Tutorial']]\n",
    "\n",
    "#Добавим строку с объединенными данными для двух контрольных групп\n",
    "new_row = users_by_events.loc[246] + users_by_events.loc[247]\n",
    "new_row.name = '246+247'\n",
    "users_by_events = users_by_events.append([new_row])\n",
    "users_by_events = users_by_events.reindex([246, 247, '246+247', 248])\n",
    "\n",
    "users_by_events"
   ]
  },
  {
   "cell_type": "markdown",
   "metadata": {},
   "source": [
    "У нас есть 2 контрольные группы для А/А-эксперимента, чтобы проверить корректность всех механизмов и расчётов. Проверем, находят ли статистические критерии разницу между выборками 246 и 247.  \n",
    "Для этого будем использовать z-тест.  \n",
    "Сформулируем нулевую гипотезу: между группами 246 и 247 нет статистически значимой разницы. Соответственно альтернативная гипотеза - между группами есть значимая разница.  \n",
    "Проведем тест на данных по количеству совершивших покупку в каждой группе:"
   ]
  },
  {
   "cell_type": "code",
   "execution_count": 37,
   "metadata": {
    "scrolled": true
   },
   "outputs": [
    {
     "name": "stdout",
     "output_type": "stream",
     "text": [
      "p-значение:  0.11456679313141849\n",
      "Не получилось отвергнуть нулевую гипотезу, нет оснований считать группы разными\n"
     ]
    }
   ],
   "source": [
    "alpha = .05 # критический уровень статистической значимости\n",
    "\n",
    "users_count = np.array([2484, 2513])\n",
    "successes = np.array([1200, 1158])\n",
    "\n",
    "# пропорция успехов в первой группе:\n",
    "p1 = successes[0]/users_count[0]\n",
    "\n",
    "# пропорция успехов во второй группе:\n",
    "p2 = successes[1]/users_count[1]\n",
    "\n",
    "# пропорция успехов в комбинированном датасете:\n",
    "p_combined = (successes[0] + successes[1]) / (users_count[0] + users_count[1])\n",
    "\n",
    "# разница пропорций в датасетах\n",
    "difference = p1 - p2\n",
    "\n",
    "# считаем статистику в ст.отклонениях стандартного нормального распределения\n",
    "z_value = difference / mth.sqrt(p_combined * (1 - p_combined) * (1/users_count[0] + 1/users_count[1]))\n",
    "\n",
    "# задаем стандартное нормальное распределение (среднее 0, ст.отклонение 1)\n",
    "distr = st.norm(0, 1)  \n",
    "\n",
    "p_value = (1 - distr.cdf(abs(z_value))) * 2\n",
    "\n",
    "print('p-значение: ', p_value)\n",
    "\n",
    "if (p_value < alpha):\n",
    "    print(\"Отвергаем нулевую гипотезу: между группами есть значимая разница\")\n",
    "else:\n",
    "    print(\"Не получилось отвергнуть нулевую гипотезу, нет оснований считать группы разными\")"
   ]
  },
  {
   "cell_type": "markdown",
   "metadata": {},
   "source": [
    "Напишем функцию, которая поможет нам оптимизировать проведение теста:"
   ]
  },
  {
   "cell_type": "code",
   "execution_count": 38,
   "metadata": {},
   "outputs": [],
   "source": [
    "def z_test(part0, part1, total0, total1, alpha):  \n",
    "    alpha = alpha\n",
    "    p1 = part0 / total0 \n",
    "    p2 = part1 / total1 \n",
    "    p_combined = (part0 + part1) / (total0 + total1) \n",
    "    difference = p1 - p2 \n",
    "    z_value = difference / mth.sqrt(p_combined * (1 - p_combined) * (1/total0 + 1/total1))\n",
    "    distr = st.norm(0, 1) \n",
    "    p_value = (1 - distr.cdf(abs(z_value))) * 2\n",
    "    return p_value"
   ]
  },
  {
   "cell_type": "markdown",
   "metadata": {},
   "source": [
    "Проверем результаты АА-теста по всем события:"
   ]
  },
  {
   "cell_type": "code",
   "execution_count": 39,
   "metadata": {},
   "outputs": [
    {
     "name": "stderr",
     "output_type": "stream",
     "text": [
      "C:\\Users\\glazo\\anaconda3\\envs\\practicum\\lib\\site-packages\\ipykernel_launcher.py:22: DeprecationWarning:\n",
      "\n",
      "In future, it will be an error for 'np.bool_' scalars to be interpreted as an index\n",
      "\n"
     ]
    },
    {
     "data": {
      "text/html": [
       "<div>\n",
       "<style scoped>\n",
       "    .dataframe tbody tr th:only-of-type {\n",
       "        vertical-align: middle;\n",
       "    }\n",
       "\n",
       "    .dataframe tbody tr th {\n",
       "        vertical-align: top;\n",
       "    }\n",
       "\n",
       "    .dataframe thead th {\n",
       "        text-align: right;\n",
       "    }\n",
       "</style>\n",
       "<table border=\"1\" class=\"dataframe\">\n",
       "  <thead>\n",
       "    <tr style=\"text-align: right;\">\n",
       "      <th></th>\n",
       "      <th>Группа_1</th>\n",
       "      <th>Группа_2</th>\n",
       "      <th>Событие</th>\n",
       "      <th>p_alpha</th>\n",
       "      <th>p_value</th>\n",
       "      <th>Результат</th>\n",
       "    </tr>\n",
       "  </thead>\n",
       "  <tbody>\n",
       "    <tr>\n",
       "      <td>0</td>\n",
       "      <td>246</td>\n",
       "      <td>247</td>\n",
       "      <td>MainScreenAppear</td>\n",
       "      <td>0.05</td>\n",
       "      <td>0.75706</td>\n",
       "      <td>Не получилось отвергнуть нулевую гипотезу, нет...</td>\n",
       "    </tr>\n",
       "    <tr>\n",
       "      <td>1</td>\n",
       "      <td>246</td>\n",
       "      <td>247</td>\n",
       "      <td>OffersScreenAppear</td>\n",
       "      <td>0.05</td>\n",
       "      <td>0.24810</td>\n",
       "      <td>Не получилось отвергнуть нулевую гипотезу, нет...</td>\n",
       "    </tr>\n",
       "    <tr>\n",
       "      <td>2</td>\n",
       "      <td>246</td>\n",
       "      <td>247</td>\n",
       "      <td>CartScreenAppear</td>\n",
       "      <td>0.05</td>\n",
       "      <td>0.22883</td>\n",
       "      <td>Не получилось отвергнуть нулевую гипотезу, нет...</td>\n",
       "    </tr>\n",
       "    <tr>\n",
       "      <td>3</td>\n",
       "      <td>246</td>\n",
       "      <td>247</td>\n",
       "      <td>PaymentScreenSuccessful</td>\n",
       "      <td>0.05</td>\n",
       "      <td>0.11457</td>\n",
       "      <td>Не получилось отвергнуть нулевую гипотезу, нет...</td>\n",
       "    </tr>\n",
       "  </tbody>\n",
       "</table>\n",
       "</div>"
      ],
      "text/plain": [
       "  Группа_1 Группа_2                  Событие  p_alpha  p_value  \\\n",
       "0      246      247         MainScreenAppear     0.05  0.75706   \n",
       "1      246      247       OffersScreenAppear     0.05  0.24810   \n",
       "2      246      247         CartScreenAppear     0.05  0.22883   \n",
       "3      246      247  PaymentScreenSuccessful     0.05  0.11457   \n",
       "\n",
       "                                           Результат  \n",
       "0  Не получилось отвергнуть нулевую гипотезу, нет...  \n",
       "1  Не получилось отвергнуть нулевую гипотезу, нет...  \n",
       "2  Не получилось отвергнуть нулевую гипотезу, нет...  \n",
       "3  Не получилось отвергнуть нулевую гипотезу, нет...  "
      ]
     },
     "execution_count": 39,
     "metadata": {},
     "output_type": "execute_result"
    }
   ],
   "source": [
    "AA_test_results = pd.DataFrame(columns=['Группа_1', 'Группа_2', 'Событие', 'p_alpha', 'p_value', 'Результат'])\n",
    "\n",
    "results = [\"Отвергаем нулевую гипотезу - между долями есть статзначимая разница\",\n",
    "           \"Не получилось отвергнуть нулевую гипотезу, нет оснований считать доли разными\"]\n",
    "\n",
    "group_1 = 246\n",
    "group_2 = 247\n",
    "alpha = .05\n",
    "\n",
    "for event_number in range(1, 5):\n",
    "    curr_event = users_by_events.columns[event_number]\n",
    "    p_value_result = z_test(users_by_events[curr_event][group_1], \n",
    "                            users_by_events[curr_event][group_2],\n",
    "                            users_by_events['users_count'][group_1],\n",
    "                            users_by_events['users_count'][group_2],\n",
    "                            alpha = alpha)\n",
    "    new_row = {'Группа_1': group_1,\n",
    "               'Группа_2': group_2,\n",
    "               'Событие': users_by_events.columns[event_number],\n",
    "               'p_alpha': alpha,\n",
    "               'p_value': round(p_value_result, 5),\n",
    "               'Результат': results[p_value_result >= alpha]}\n",
    "    AA_test_results = AA_test_results.append([new_row])\n",
    "\n",
    "AA_test_results.index = range(len(AA_test_results))\n",
    "AA_test_results"
   ]
  },
  {
   "cell_type": "markdown",
   "metadata": {},
   "source": [
    "Группы поделены корректно - статистически значимых различий между 246 и 247 группами не обнаружено.  \n",
    "\n",
    "Теперь проверим результаты между группой с измененным шрифтом и контрольными группами: "
   ]
  },
  {
   "cell_type": "code",
   "execution_count": 41,
   "metadata": {},
   "outputs": [
    {
     "name": "stderr",
     "output_type": "stream",
     "text": [
      "C:\\Users\\glazo\\anaconda3\\envs\\practicum\\lib\\site-packages\\ipykernel_launcher.py:22: DeprecationWarning:\n",
      "\n",
      "In future, it will be an error for 'np.bool_' scalars to be interpreted as an index\n",
      "\n"
     ]
    },
    {
     "data": {
      "text/html": [
       "<div>\n",
       "<style scoped>\n",
       "    .dataframe tbody tr th:only-of-type {\n",
       "        vertical-align: middle;\n",
       "    }\n",
       "\n",
       "    .dataframe tbody tr th {\n",
       "        vertical-align: top;\n",
       "    }\n",
       "\n",
       "    .dataframe thead th {\n",
       "        text-align: right;\n",
       "    }\n",
       "</style>\n",
       "<table border=\"1\" class=\"dataframe\">\n",
       "  <thead>\n",
       "    <tr style=\"text-align: right;\">\n",
       "      <th></th>\n",
       "      <th>Группа_1</th>\n",
       "      <th>Группа_2</th>\n",
       "      <th>Событие</th>\n",
       "      <th>p_alpha</th>\n",
       "      <th>p_value</th>\n",
       "      <th>Результат</th>\n",
       "    </tr>\n",
       "  </thead>\n",
       "  <tbody>\n",
       "    <tr>\n",
       "      <td>0</td>\n",
       "      <td>246</td>\n",
       "      <td>248</td>\n",
       "      <td>MainScreenAppear</td>\n",
       "      <td>0.01</td>\n",
       "      <td>0.29497</td>\n",
       "      <td>Не получилось отвергнуть нулевую гипотезу, нет...</td>\n",
       "    </tr>\n",
       "    <tr>\n",
       "      <td>1</td>\n",
       "      <td>246</td>\n",
       "      <td>248</td>\n",
       "      <td>OffersScreenAppear</td>\n",
       "      <td>0.01</td>\n",
       "      <td>0.20836</td>\n",
       "      <td>Не получилось отвергнуть нулевую гипотезу, нет...</td>\n",
       "    </tr>\n",
       "    <tr>\n",
       "      <td>2</td>\n",
       "      <td>246</td>\n",
       "      <td>248</td>\n",
       "      <td>CartScreenAppear</td>\n",
       "      <td>0.01</td>\n",
       "      <td>0.07843</td>\n",
       "      <td>Не получилось отвергнуть нулевую гипотезу, нет...</td>\n",
       "    </tr>\n",
       "    <tr>\n",
       "      <td>3</td>\n",
       "      <td>246</td>\n",
       "      <td>248</td>\n",
       "      <td>PaymentScreenSuccessful</td>\n",
       "      <td>0.01</td>\n",
       "      <td>0.21226</td>\n",
       "      <td>Не получилось отвергнуть нулевую гипотезу, нет...</td>\n",
       "    </tr>\n",
       "    <tr>\n",
       "      <td>4</td>\n",
       "      <td>247</td>\n",
       "      <td>248</td>\n",
       "      <td>MainScreenAppear</td>\n",
       "      <td>0.01</td>\n",
       "      <td>0.45871</td>\n",
       "      <td>Не получилось отвергнуть нулевую гипотезу, нет...</td>\n",
       "    </tr>\n",
       "    <tr>\n",
       "      <td>5</td>\n",
       "      <td>247</td>\n",
       "      <td>248</td>\n",
       "      <td>OffersScreenAppear</td>\n",
       "      <td>0.01</td>\n",
       "      <td>0.91978</td>\n",
       "      <td>Не получилось отвергнуть нулевую гипотезу, нет...</td>\n",
       "    </tr>\n",
       "    <tr>\n",
       "      <td>6</td>\n",
       "      <td>247</td>\n",
       "      <td>248</td>\n",
       "      <td>CartScreenAppear</td>\n",
       "      <td>0.01</td>\n",
       "      <td>0.57862</td>\n",
       "      <td>Не получилось отвергнуть нулевую гипотезу, нет...</td>\n",
       "    </tr>\n",
       "    <tr>\n",
       "      <td>7</td>\n",
       "      <td>247</td>\n",
       "      <td>248</td>\n",
       "      <td>PaymentScreenSuccessful</td>\n",
       "      <td>0.01</td>\n",
       "      <td>0.73734</td>\n",
       "      <td>Не получилось отвергнуть нулевую гипотезу, нет...</td>\n",
       "    </tr>\n",
       "    <tr>\n",
       "      <td>8</td>\n",
       "      <td>246+247</td>\n",
       "      <td>248</td>\n",
       "      <td>MainScreenAppear</td>\n",
       "      <td>0.01</td>\n",
       "      <td>0.29425</td>\n",
       "      <td>Не получилось отвергнуть нулевую гипотезу, нет...</td>\n",
       "    </tr>\n",
       "    <tr>\n",
       "      <td>9</td>\n",
       "      <td>246+247</td>\n",
       "      <td>248</td>\n",
       "      <td>OffersScreenAppear</td>\n",
       "      <td>0.01</td>\n",
       "      <td>0.43426</td>\n",
       "      <td>Не получилось отвергнуть нулевую гипотезу, нет...</td>\n",
       "    </tr>\n",
       "    <tr>\n",
       "      <td>10</td>\n",
       "      <td>246+247</td>\n",
       "      <td>248</td>\n",
       "      <td>CartScreenAppear</td>\n",
       "      <td>0.01</td>\n",
       "      <td>0.18176</td>\n",
       "      <td>Не получилось отвергнуть нулевую гипотезу, нет...</td>\n",
       "    </tr>\n",
       "    <tr>\n",
       "      <td>11</td>\n",
       "      <td>246+247</td>\n",
       "      <td>248</td>\n",
       "      <td>PaymentScreenSuccessful</td>\n",
       "      <td>0.01</td>\n",
       "      <td>0.60043</td>\n",
       "      <td>Не получилось отвергнуть нулевую гипотезу, нет...</td>\n",
       "    </tr>\n",
       "  </tbody>\n",
       "</table>\n",
       "</div>"
      ],
      "text/plain": [
       "   Группа_1 Группа_2                  Событие  p_alpha  p_value  \\\n",
       "0       246      248         MainScreenAppear     0.01  0.29497   \n",
       "1       246      248       OffersScreenAppear     0.01  0.20836   \n",
       "2       246      248         CartScreenAppear     0.01  0.07843   \n",
       "3       246      248  PaymentScreenSuccessful     0.01  0.21226   \n",
       "4       247      248         MainScreenAppear     0.01  0.45871   \n",
       "5       247      248       OffersScreenAppear     0.01  0.91978   \n",
       "6       247      248         CartScreenAppear     0.01  0.57862   \n",
       "7       247      248  PaymentScreenSuccessful     0.01  0.73734   \n",
       "8   246+247      248         MainScreenAppear     0.01  0.29425   \n",
       "9   246+247      248       OffersScreenAppear     0.01  0.43426   \n",
       "10  246+247      248         CartScreenAppear     0.01  0.18176   \n",
       "11  246+247      248  PaymentScreenSuccessful     0.01  0.60043   \n",
       "\n",
       "                                            Результат  \n",
       "0   Не получилось отвергнуть нулевую гипотезу, нет...  \n",
       "1   Не получилось отвергнуть нулевую гипотезу, нет...  \n",
       "2   Не получилось отвергнуть нулевую гипотезу, нет...  \n",
       "3   Не получилось отвергнуть нулевую гипотезу, нет...  \n",
       "4   Не получилось отвергнуть нулевую гипотезу, нет...  \n",
       "5   Не получилось отвергнуть нулевую гипотезу, нет...  \n",
       "6   Не получилось отвергнуть нулевую гипотезу, нет...  \n",
       "7   Не получилось отвергнуть нулевую гипотезу, нет...  \n",
       "8   Не получилось отвергнуть нулевую гипотезу, нет...  \n",
       "9   Не получилось отвергнуть нулевую гипотезу, нет...  \n",
       "10  Не получилось отвергнуть нулевую гипотезу, нет...  \n",
       "11  Не получилось отвергнуть нулевую гипотезу, нет...  "
      ]
     },
     "execution_count": 41,
     "metadata": {},
     "output_type": "execute_result"
    }
   ],
   "source": [
    "AB_test_results_2 = pd.DataFrame(columns=['Группа_1', 'Группа_2', 'Событие', 'p_alpha', 'p_value', 'Результат'])\n",
    "\n",
    "results = [\"Отвергаем нулевую гипотезу - между долями есть статзначимая разница\",\n",
    "           \"Не получилось отвергнуть нулевую гипотезу, нет оснований считать доли разными\"]\n",
    "\n",
    "for i in range(3):\n",
    "    group_1 = users_by_events.index[i]\n",
    "    group_2 = 248\n",
    "    alpha = .01\n",
    "    for event_number in range(1, 5):\n",
    "        curr_event = users_by_events.columns[event_number]\n",
    "        p_value_result = z_test(users_by_events[curr_event][group_1], \n",
    "                                  users_by_events[curr_event][group_2],\n",
    "                                  users_by_events['users_count'][group_1],\n",
    "                                  users_by_events['users_count'][group_2],\n",
    "                                  alpha = alpha)\n",
    "        new_row = {'Группа_1': group_1,\n",
    "                   'Группа_2': group_2,\n",
    "                   'Событие': users_by_events.columns[event_number],\n",
    "                   'p_alpha': alpha,\n",
    "                   'p_value': round(p_value_result, 5),\n",
    "                   'Результат': results[p_value_result >= 0.05]}\n",
    "        AB_test_results_2 = AB_test_results_2.append([new_row])\n",
    "\n",
    "AB_test_results_2.index = range(len(AB_test_results_2))\n",
    "AB_test_results_2"
   ]
  },
  {
   "cell_type": "markdown",
   "metadata": {},
   "source": [
    "Статистически значимых различий между 248-й и контрольными гуппами не обнаружено.  \n",
    "\n",
    "Мы проводим множественный тест. Его важная особенность в том, что с каждой новой проверкой гипотезы растёт вероятность ошибки первого рода. Чтобы снизить вероятность ложнопозитивного результата при множественном тестировании гипотез, применим методы Холма и Шидака:"
   ]
  },
  {
   "cell_type": "code",
   "execution_count": 42,
   "metadata": {},
   "outputs": [
    {
     "data": {
      "text/html": [
       "<div>\n",
       "<style scoped>\n",
       "    .dataframe tbody tr th:only-of-type {\n",
       "        vertical-align: middle;\n",
       "    }\n",
       "\n",
       "    .dataframe tbody tr th {\n",
       "        vertical-align: top;\n",
       "    }\n",
       "\n",
       "    .dataframe thead th {\n",
       "        text-align: right;\n",
       "    }\n",
       "</style>\n",
       "<table border=\"1\" class=\"dataframe\">\n",
       "  <thead>\n",
       "    <tr style=\"text-align: right;\">\n",
       "      <th></th>\n",
       "      <th>Группа_1</th>\n",
       "      <th>Группа_2</th>\n",
       "      <th>Событие</th>\n",
       "      <th>p_alpha</th>\n",
       "      <th>p_value</th>\n",
       "      <th>p_value_corr</th>\n",
       "      <th>Итоговый результат</th>\n",
       "    </tr>\n",
       "  </thead>\n",
       "  <tbody>\n",
       "    <tr>\n",
       "      <td>0</td>\n",
       "      <td>246</td>\n",
       "      <td>248</td>\n",
       "      <td>MainScreenAppear</td>\n",
       "      <td>0.01</td>\n",
       "      <td>0.29497</td>\n",
       "      <td>0.93845</td>\n",
       "      <td>Не получилось отвергнуть нулевую гипотезу, нет...</td>\n",
       "    </tr>\n",
       "    <tr>\n",
       "      <td>1</td>\n",
       "      <td>246</td>\n",
       "      <td>248</td>\n",
       "      <td>OffersScreenAppear</td>\n",
       "      <td>0.01</td>\n",
       "      <td>0.20836</td>\n",
       "      <td>0.90333</td>\n",
       "      <td>Не получилось отвергнуть нулевую гипотезу, нет...</td>\n",
       "    </tr>\n",
       "    <tr>\n",
       "      <td>2</td>\n",
       "      <td>246</td>\n",
       "      <td>248</td>\n",
       "      <td>CartScreenAppear</td>\n",
       "      <td>0.01</td>\n",
       "      <td>0.07843</td>\n",
       "      <td>0.62473</td>\n",
       "      <td>Не получилось отвергнуть нулевую гипотезу, нет...</td>\n",
       "    </tr>\n",
       "    <tr>\n",
       "      <td>3</td>\n",
       "      <td>246</td>\n",
       "      <td>248</td>\n",
       "      <td>PaymentScreenSuccessful</td>\n",
       "      <td>0.01</td>\n",
       "      <td>0.21226</td>\n",
       "      <td>0.90333</td>\n",
       "      <td>Не получилось отвергнуть нулевую гипотезу, нет...</td>\n",
       "    </tr>\n",
       "    <tr>\n",
       "      <td>4</td>\n",
       "      <td>247</td>\n",
       "      <td>248</td>\n",
       "      <td>MainScreenAppear</td>\n",
       "      <td>0.01</td>\n",
       "      <td>0.45871</td>\n",
       "      <td>0.96721</td>\n",
       "      <td>Не получилось отвергнуть нулевую гипотезу, нет...</td>\n",
       "    </tr>\n",
       "    <tr>\n",
       "      <td>5</td>\n",
       "      <td>247</td>\n",
       "      <td>248</td>\n",
       "      <td>OffersScreenAppear</td>\n",
       "      <td>0.01</td>\n",
       "      <td>0.91978</td>\n",
       "      <td>0.96847</td>\n",
       "      <td>Не получилось отвергнуть нулевую гипотезу, нет...</td>\n",
       "    </tr>\n",
       "    <tr>\n",
       "      <td>6</td>\n",
       "      <td>247</td>\n",
       "      <td>248</td>\n",
       "      <td>CartScreenAppear</td>\n",
       "      <td>0.01</td>\n",
       "      <td>0.57862</td>\n",
       "      <td>0.96847</td>\n",
       "      <td>Не получилось отвергнуть нулевую гипотезу, нет...</td>\n",
       "    </tr>\n",
       "    <tr>\n",
       "      <td>7</td>\n",
       "      <td>247</td>\n",
       "      <td>248</td>\n",
       "      <td>PaymentScreenSuccessful</td>\n",
       "      <td>0.01</td>\n",
       "      <td>0.73734</td>\n",
       "      <td>0.96847</td>\n",
       "      <td>Не получилось отвергнуть нулевую гипотезу, нет...</td>\n",
       "    </tr>\n",
       "    <tr>\n",
       "      <td>8</td>\n",
       "      <td>246+247</td>\n",
       "      <td>248</td>\n",
       "      <td>MainScreenAppear</td>\n",
       "      <td>0.01</td>\n",
       "      <td>0.29425</td>\n",
       "      <td>0.93845</td>\n",
       "      <td>Не получилось отвергнуть нулевую гипотезу, нет...</td>\n",
       "    </tr>\n",
       "    <tr>\n",
       "      <td>9</td>\n",
       "      <td>246+247</td>\n",
       "      <td>248</td>\n",
       "      <td>OffersScreenAppear</td>\n",
       "      <td>0.01</td>\n",
       "      <td>0.43426</td>\n",
       "      <td>0.96721</td>\n",
       "      <td>Не получилось отвергнуть нулевую гипотезу, нет...</td>\n",
       "    </tr>\n",
       "    <tr>\n",
       "      <td>10</td>\n",
       "      <td>246+247</td>\n",
       "      <td>248</td>\n",
       "      <td>CartScreenAppear</td>\n",
       "      <td>0.01</td>\n",
       "      <td>0.18176</td>\n",
       "      <td>0.88993</td>\n",
       "      <td>Не получилось отвергнуть нулевую гипотезу, нет...</td>\n",
       "    </tr>\n",
       "    <tr>\n",
       "      <td>11</td>\n",
       "      <td>246+247</td>\n",
       "      <td>248</td>\n",
       "      <td>PaymentScreenSuccessful</td>\n",
       "      <td>0.01</td>\n",
       "      <td>0.60043</td>\n",
       "      <td>0.96847</td>\n",
       "      <td>Не получилось отвергнуть нулевую гипотезу, нет...</td>\n",
       "    </tr>\n",
       "  </tbody>\n",
       "</table>\n",
       "</div>"
      ],
      "text/plain": [
       "   Группа_1 Группа_2                  Событие  p_alpha  p_value  p_value_corr  \\\n",
       "0       246      248         MainScreenAppear     0.01  0.29497       0.93845   \n",
       "1       246      248       OffersScreenAppear     0.01  0.20836       0.90333   \n",
       "2       246      248         CartScreenAppear     0.01  0.07843       0.62473   \n",
       "3       246      248  PaymentScreenSuccessful     0.01  0.21226       0.90333   \n",
       "4       247      248         MainScreenAppear     0.01  0.45871       0.96721   \n",
       "5       247      248       OffersScreenAppear     0.01  0.91978       0.96847   \n",
       "6       247      248         CartScreenAppear     0.01  0.57862       0.96847   \n",
       "7       247      248  PaymentScreenSuccessful     0.01  0.73734       0.96847   \n",
       "8   246+247      248         MainScreenAppear     0.01  0.29425       0.93845   \n",
       "9   246+247      248       OffersScreenAppear     0.01  0.43426       0.96721   \n",
       "10  246+247      248         CartScreenAppear     0.01  0.18176       0.88993   \n",
       "11  246+247      248  PaymentScreenSuccessful     0.01  0.60043       0.96847   \n",
       "\n",
       "                                   Итоговый результат  \n",
       "0   Не получилось отвергнуть нулевую гипотезу, нет...  \n",
       "1   Не получилось отвергнуть нулевую гипотезу, нет...  \n",
       "2   Не получилось отвергнуть нулевую гипотезу, нет...  \n",
       "3   Не получилось отвергнуть нулевую гипотезу, нет...  \n",
       "4   Не получилось отвергнуть нулевую гипотезу, нет...  \n",
       "5   Не получилось отвергнуть нулевую гипотезу, нет...  \n",
       "6   Не получилось отвергнуть нулевую гипотезу, нет...  \n",
       "7   Не получилось отвергнуть нулевую гипотезу, нет...  \n",
       "8   Не получилось отвергнуть нулевую гипотезу, нет...  \n",
       "9   Не получилось отвергнуть нулевую гипотезу, нет...  \n",
       "10  Не получилось отвергнуть нулевую гипотезу, нет...  \n",
       "11  Не получилось отвергнуть нулевую гипотезу, нет...  "
      ]
     },
     "execution_count": 42,
     "metadata": {},
     "output_type": "execute_result"
    }
   ],
   "source": [
    "result_options = [\"Отвергаем нулевую гипотезу - между долями есть статзначимая разница\",\n",
    "                  \"Не получилось отвергнуть нулевую гипотезу, нет достаточных оснований считать доли разными\"]\n",
    "\n",
    "pvalues_corr_list_2 = []  # откорректированные p-value\n",
    "final_results_2 = []  # итоговые результаты (отклоняем или нет)\n",
    "\n",
    "alpha = .05\n",
    "pvalues_list_2 = AB_test_results_2['p_value'].tolist()\n",
    "results_2, p_value_corr_2, _, _ = multipletests(pvalues_list_2, alpha = alpha, method='holm-sidak')\n",
    "pvalues_corr_list_2.extend([round(x, 5) for x in p_value_corr_2])\n",
    "final_results_2.extend([result_options[0] if x else result_options[1] for x in results_2])\n",
    "\n",
    "AB_test_results_2 = AB_test_results_2.drop('Результат', axis=1)\n",
    "AB_test_results_2['p_value_corr'] = pvalues_corr_list_2\n",
    "AB_test_results_2['Итоговый результат'] = final_results_2\n",
    "AB_test_results_2"
   ]
  },
  {
   "cell_type": "markdown",
   "metadata": {},
   "source": [
    "### Выводы\n",
    "Статистически значимых различий между двумя контрольными группами со старыми шрифтами и экспериментальной (с новыми шрифтами) не удалось обнаружить. Значит гипотеза о том, что изменение шрифта на главной странице как-то повлияет на конверсию, не подтвердилась.  \n",
    "Возможно стоит еще раз провести тест спустя неделю, когда у нас станет больше исходных данных. Однако, учитывая довольно высокие значения p-value на это не стоит надеяться."
   ]
  },
  {
   "cell_type": "markdown",
   "metadata": {},
   "source": [
    "[Обратно к содержанию](#mark_)"
   ]
  }
 ],
 "metadata": {
  "kernelspec": {
   "display_name": "Python 3",
   "language": "python",
   "name": "python3"
  },
  "language_info": {
   "codemirror_mode": {
    "name": "ipython",
    "version": 3
   },
   "file_extension": ".py",
   "mimetype": "text/x-python",
   "name": "python",
   "nbconvert_exporter": "python",
   "pygments_lexer": "ipython3",
   "version": "3.7.8"
  }
 },
 "nbformat": 4,
 "nbformat_minor": 2
}
